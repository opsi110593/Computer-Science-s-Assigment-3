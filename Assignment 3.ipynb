{
 "cells": [
  {
   "cell_type": "markdown",
   "id": "f426eaa8-c3c1-41cd-9a4b-407614a12a9a",
   "metadata": {},
   "source": [
    "# Assignment 3\n",
    "# Name: Phu Si On\n",
    "# Date: 15-02-2025"
   ]
  },
  {
   "cell_type": "markdown",
   "id": "655aba06-b967-4911-84bb-1d141f1769d4",
   "metadata": {},
   "source": [
    "**1.**\n",
    " **Write a lambda expression to get the product of two numbers.**\n",
    " \n",
    "**Run test for expression(5,6)**\n",
    "\n",
    "**Output: 30**\n"
   ]
  },
  {
   "cell_type": "code",
   "execution_count": 491,
   "id": "48769ebd-752a-461a-a3c7-5cdf5f012848",
   "metadata": {},
   "outputs": [
    {
     "name": "stdout",
     "output_type": "stream",
     "text": [
      "Output: 30\n"
     ]
    }
   ],
   "source": [
    "#Write a lambda expression to get the product of two numbers\n",
    "expression = lambda num1, num2: num1*num2 \n",
    "output = expression(5,6)\n",
    "print(\"Output:\",output)"
   ]
  },
  {
   "cell_type": "markdown",
   "id": "af08ed65-3015-4ca3-ad2c-cdc91c1bca9c",
   "metadata": {},
   "source": [
    "**2.**\n",
    "**Write a function to get the area of a circle from the radius.**\n",
    "\n",
    "**Hint: remember to import the right modul for being able to calculte the area of the circle.**\n",
    "\n",
    "**Run test for function(10)**\n",
    "\n",
    "**Output: 314.1592653589793**"
   ]
  },
  {
   "cell_type": "code",
   "execution_count": 493,
   "id": "217cd4c4-a549-4b34-bba6-7c1871fb56e7",
   "metadata": {},
   "outputs": [
    {
     "name": "stdout",
     "output_type": "stream",
     "text": [
      "Output: 314.1592653589793\n"
     ]
    }
   ],
   "source": [
    "import math #import math module\n",
    "\n",
    "#Write a function to get the area of a circle from the radius\n",
    "def circle_area(radius): \n",
    "    return math.pi * radius ** 2\n",
    "output = function(10)\n",
    "print(\"Output:\",output)"
   ]
  },
  {
   "cell_type": "markdown",
   "id": "fdb628b8-e49c-4ffd-b2c8-48fbcd31d74b",
   "metadata": {},
   "source": [
    "**3.**\n",
    "**Build a simple calculator which can: add, subtract, multiply, divide.**\n",
    "\n",
    "**Hint: solve by writing a function that takes as argument two numbers and the operation and\n",
    "returns the desired output.**\n",
    "    \n",
    "**Run test for function(2,5,’d’)**\n",
    "    \n",
    "**Output: 0.4**"
   ]
  },
  {
   "cell_type": "code",
   "execution_count": 495,
   "id": "cfb8768f-e051-41ea-bb00-cac8c976e398",
   "metadata": {},
   "outputs": [
    {
     "name": "stdout",
     "output_type": "stream",
     "text": [
      "Output: 0.4\n"
     ]
    }
   ],
   "source": [
    "#Write calculator function which can: add, subtract, multiply, divide\n",
    "def calculator(num1, num2, operation):\n",
    "    if operation == \"a\": #check if user use add operation\n",
    "        return num1 + num2\n",
    "    elif operation == 's': #check if user use subtract operation\n",
    "        return num1 - num2\n",
    "    elif operation == 'm': #check if user use multiply operation\n",
    "        return num1 * num2\n",
    "    elif operation == 'd': #check if user use divide operation\n",
    "        if num2 == 0: #check if user input 0 as denominator\n",
    "            return \"Math ERROR, division by 0\"\n",
    "        else:\n",
    "            return num1 / num2\n",
    "output = calculator(2, 5, 'd')\n",
    "print(\"Output:\", output)"
   ]
  },
  {
   "cell_type": "markdown",
   "id": "dd2e1c30-bbba-4a78-9cc2-40bab3d63b1b",
   "metadata": {},
   "source": [
    "**4.**\n",
    "**Define a class named Rectangle which can be constructed by a length and width.**\n",
    "\n",
    "**The Rectangle class has a method which can compute the area.**\n",
    "\n",
    "**Run test for r = Rectangle(5,10)**\n",
    "                    \n",
    "**r.area()**\n",
    "\n",
    " **Output: 50**"
   ]
  },
  {
   "cell_type": "code",
   "execution_count": 497,
   "id": "1b661be5-f0bb-4fef-b533-54ef845d047d",
   "metadata": {},
   "outputs": [
    {
     "name": "stdout",
     "output_type": "stream",
     "text": [
      "Output: 50\n"
     ]
    }
   ],
   "source": [
    "class Rectangle(): #Define a class named Rectangle\n",
    "    def __init__(self, length, width): #constructed by a length and width\n",
    "        self.length = length\n",
    "        self.width = width\n",
    "        \n",
    "    def area(self): #Rectangle area function\n",
    "        print(\"Output:\", self.length * self.width)\n",
    "r = Rectangle(5,10)\n",
    "r.area()"
   ]
  },
  {
   "cell_type": "markdown",
   "id": "ef85cb59-92ea-4304-b0c9-515b8e450271",
   "metadata": {},
   "source": [
    "**5.**\n",
    "**Define a class named Shape and its subclass Square**\n",
    "\n",
    "**Shape objects can be consrtucted by name and length has an area function wich return 0**\n",
    "\n",
    "**Square subclass has an init function which take a length and name as argument and has an**\n",
    "\n",
    "**area method and a describe method what prints the name of the Shape.**\n",
    "\n",
    " **Print the area from Square class.**\n",
    " \n",
    "**Run test for: s = Square('square',5)**\n",
    "\n",
    "**print(s.area())**\n",
    "\n",
    "**print(s.describe())**\n",
    "\n",
    "**Output: The area is:**\n",
    "\n",
    "**25**\n",
    "\n",
    "**This is a: square**"
   ]
  },
  {
   "cell_type": "code",
   "execution_count": 499,
   "id": "0a0285e4-e530-4f41-a078-fcf7abf5e17f",
   "metadata": {},
   "outputs": [
    {
     "name": "stdout",
     "output_type": "stream",
     "text": [
      "Output :The area is: \n",
      "25\n",
      "this is a: square\n"
     ]
    }
   ],
   "source": [
    "class Shape(): #Define a class named Shape\n",
    "    def __init__(self, name, length): #consrtucted by name and length\n",
    "        self.name = name\n",
    "        self.length = length\n",
    "    def area(self): #area function which return 0\n",
    "        return 0\n",
    "class Square(Shape): #Define a subclass named Square\n",
    "    def __init__(self, name, length):\n",
    "        super().__init__(name, length) #Calls the parent class constructor\n",
    "    def area(self): #Square area function\n",
    "        return f\"Output :The area is: \\n{self.length **2}\"\n",
    "    def describe(self): #Square describe function\n",
    "        return f\"This is a: {self.name}\"\n",
    "s = Square('square',5)\n",
    "print(s.area())\n",
    "print(s.describe().lower())"
   ]
  }
 ],
 "metadata": {
  "kernelspec": {
   "display_name": "Python [conda env:base] *",
   "language": "python",
   "name": "conda-base-py"
  },
  "language_info": {
   "codemirror_mode": {
    "name": "ipython",
    "version": 3
   },
   "file_extension": ".py",
   "mimetype": "text/x-python",
   "name": "python",
   "nbconvert_exporter": "python",
   "pygments_lexer": "ipython3",
   "version": "3.12.7"
  }
 },
 "nbformat": 4,
 "nbformat_minor": 5
}
